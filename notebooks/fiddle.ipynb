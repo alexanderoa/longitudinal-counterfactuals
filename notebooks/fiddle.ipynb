{
 "cells": [
  {
   "cell_type": "code",
   "execution_count": 108,
   "metadata": {},
   "outputs": [],
   "source": [
    "import sparse\n",
    "import json\n",
    "import numpy as np\n",
    "import pandas as pd\n",
    "from sklearn.linear_model import LogisticRegression\n",
    "from sklearn.model_selection import train_test_split\n",
    "from sklearn.ensemble import RandomForestClassifier\n",
    "import scipy as sp\n",
    "import sys\n",
    "import io\n",
    "from tqdm import tqdm, trange\n",
    "\n",
    "import dice_ml\n",
    "from dice_ml.utils import helpers\n",
    "import matplotlib.pyplot as plt\n",
    "import seaborn as sns"
   ]
  },
  {
   "cell_type": "code",
   "execution_count": 2,
   "metadata": {},
   "outputs": [],
   "source": [
    "sys.path.append('..')\n",
    "from learn_distance.evaluate import *\n",
    "from learn_distance.ordinal import *"
   ]
  },
  {
   "cell_type": "code",
   "execution_count": 3,
   "metadata": {},
   "outputs": [],
   "source": [
    "problem = 'ARF_4h'\n",
    "dataset = 'mimic3'\n",
    "\n",
    "s = sparse.load_npz('../data/fiddle/FIDDLE_{dataset}/features/{problem}/s.npz'.format(problem=problem, dataset=dataset)).todense()\n",
    "x = sparse.load_npz('../data/fiddle/FIDDLE_{dataset}/features/{problem}/X.npz'.format(problem=problem, dataset=dataset)).todense()\n",
    "\n",
    "s_feats = json.load(open('../data/fiddle/FIDDLE_{dataset}/features/{problem}/s.feature_names.json'.format(problem=problem, dataset=dataset), 'r'))\n",
    "x_feats = json.load(open('../data/fiddle/FIDDLE_{dataset}/features/{problem}/X.feature_names.json'.format(problem=problem, dataset=dataset), 'r'))\n",
    "\n",
    "y = pd.read_csv('../data/fiddle/FIDDLE_{dataset}/population/{problem}.csv'.format(problem=problem, dataset=dataset))"
   ]
  },
  {
   "cell_type": "code",
   "execution_count": 4,
   "metadata": {},
   "outputs": [],
   "source": [
    "end = x.shape[1]-1\n",
    "d = x[:,end,:] - x[:,0,:]\n",
    "x_start = np.hstack([s,x[:,0,:]])\n",
    "x_end = np.hstack([s,x[:,end,:]])\n",
    "feats = s_feats + x_feats"
   ]
  },
  {
   "cell_type": "code",
   "execution_count": 5,
   "metadata": {},
   "outputs": [],
   "source": [
    "frequent = ['DiaBP', 'HR', 'SpO2', 'RR', 'SysBP']\n",
    "stats = ['value', 'max', 'min', 'mean']\n",
    "feat_idx, sets, freq_stats = get_feature_idx(\n",
    "    frequent=frequent,\n",
    "    stats=stats,\n",
    "    x_feats=x_feats,\n",
    "    s_feats=s_feats)"
   ]
  },
  {
   "cell_type": "code",
   "execution_count": 6,
   "metadata": {},
   "outputs": [],
   "source": [
    "df_start = pd.DataFrame(ohe_to_ordinal(\n",
    "    feature_sets=sets,\n",
    "    feat_idx=feat_idx,\n",
    "    x=x_start\n",
    "))\n",
    "\n",
    "df_end = pd.DataFrame(ohe_to_ordinal(\n",
    "    feature_sets=sets,\n",
    "    feat_idx=feat_idx,\n",
    "    x=x_end\n",
    "))\n",
    "\n",
    "na_start = get_na_mask(x_start, freq_stats, feat_idx)\n",
    "na_end = get_na_mask(x_end, freq_stats, feat_idx)"
   ]
  },
  {
   "cell_type": "code",
   "execution_count": 7,
   "metadata": {},
   "outputs": [],
   "source": [
    "na_both = np.logical_and(na_start, na_end)\n",
    "\n",
    "df_start = df_start.iloc[na_both,:]\n",
    "df_end = df_end.iloc[na_both,:]\n",
    "\n",
    "y_start = y['ARF_LABEL'][na_start]\n",
    "y_end = y['ARF_LABEL'][na_end]\n",
    "y_both = y['ARF_LABEL'][na_both]"
   ]
  },
  {
   "cell_type": "code",
   "execution_count": 8,
   "metadata": {},
   "outputs": [
    {
     "data": {
      "text/plain": [
       "LogisticRegression(penalty='l1', solver='liblinear')"
      ]
     },
     "execution_count": 8,
     "metadata": {},
     "output_type": "execute_result"
    }
   ],
   "source": [
    "xtr, xte, ytr, yte = train_test_split(df_start, y_both, stratify=y_both, random_state=123)\n",
    "boundary = LogisticRegression(solver='liblinear', penalty='l1')\n",
    "boundary.fit(xtr, ytr)"
   ]
  },
  {
   "cell_type": "code",
   "execution_count": 88,
   "metadata": {},
   "outputs": [],
   "source": [
    "train = pd.DataFrame(xtr, columns = df_start.columns)\n",
    "train['label'] = ytr\n",
    "\n",
    "start = train.drop(columns=['label'])\n",
    "\n",
    "test = pd.DataFrame(xte, columns=df_start.columns)\n",
    "test['label'] = yte"
   ]
  },
  {
   "cell_type": "code",
   "execution_count": 10,
   "metadata": {},
   "outputs": [
    {
     "data": {
      "text/html": [
       "<div>\n",
       "<style scoped>\n",
       "    .dataframe tbody tr th:only-of-type {\n",
       "        vertical-align: middle;\n",
       "    }\n",
       "\n",
       "    .dataframe tbody tr th {\n",
       "        vertical-align: top;\n",
       "    }\n",
       "\n",
       "    .dataframe thead th {\n",
       "        text-align: right;\n",
       "    }\n",
       "</style>\n",
       "<table border=\"1\" class=\"dataframe\">\n",
       "  <thead>\n",
       "    <tr style=\"text-align: right;\">\n",
       "      <th></th>\n",
       "      <th>feat</th>\n",
       "      <th>coef</th>\n",
       "      <th>abs_coef</th>\n",
       "    </tr>\n",
       "  </thead>\n",
       "  <tbody>\n",
       "    <tr>\n",
       "      <th>763</th>\n",
       "      <td>225892_value</td>\n",
       "      <td>2.027556</td>\n",
       "      <td>2.027556</td>\n",
       "    </tr>\n",
       "    <tr>\n",
       "      <th>72</th>\n",
       "      <td>221794_value</td>\n",
       "      <td>-1.645414</td>\n",
       "      <td>1.645414</td>\n",
       "    </tr>\n",
       "    <tr>\n",
       "      <th>1299</th>\n",
       "      <td>70059_value</td>\n",
       "      <td>1.473608</td>\n",
       "      <td>1.473608</td>\n",
       "    </tr>\n",
       "    <tr>\n",
       "      <th>840</th>\n",
       "      <td>226363_value</td>\n",
       "      <td>1.343088</td>\n",
       "      <td>1.343088</td>\n",
       "    </tr>\n",
       "    <tr>\n",
       "      <th>851</th>\n",
       "      <td>226375_value</td>\n",
       "      <td>-1.335236</td>\n",
       "      <td>1.335236</td>\n",
       "    </tr>\n",
       "    <tr>\n",
       "      <th>1307</th>\n",
       "      <td>70088_value</td>\n",
       "      <td>1.207498</td>\n",
       "      <td>1.207498</td>\n",
       "    </tr>\n",
       "    <tr>\n",
       "      <th>496</th>\n",
       "      <td>224974_value</td>\n",
       "      <td>1.207266</td>\n",
       "      <td>1.207266</td>\n",
       "    </tr>\n",
       "    <tr>\n",
       "      <th>346</th>\n",
       "      <td>224369_value</td>\n",
       "      <td>-1.200431</td>\n",
       "      <td>1.200431</td>\n",
       "    </tr>\n",
       "    <tr>\n",
       "      <th>654</th>\n",
       "      <td>225439_value</td>\n",
       "      <td>1.135540</td>\n",
       "      <td>1.135540</td>\n",
       "    </tr>\n",
       "    <tr>\n",
       "      <th>17</th>\n",
       "      <td>220862_Rate</td>\n",
       "      <td>1.106664</td>\n",
       "      <td>1.106664</td>\n",
       "    </tr>\n",
       "    <tr>\n",
       "      <th>1192</th>\n",
       "      <td>50963_value</td>\n",
       "      <td>-1.100462</td>\n",
       "      <td>1.100462</td>\n",
       "    </tr>\n",
       "    <tr>\n",
       "      <th>416</th>\n",
       "      <td>224800_value</td>\n",
       "      <td>-1.089362</td>\n",
       "      <td>1.089362</td>\n",
       "    </tr>\n",
       "    <tr>\n",
       "      <th>417</th>\n",
       "      <td>224801_value</td>\n",
       "      <td>-1.088073</td>\n",
       "      <td>1.088073</td>\n",
       "    </tr>\n",
       "    <tr>\n",
       "      <th>1027</th>\n",
       "      <td>227956_value</td>\n",
       "      <td>-1.083022</td>\n",
       "      <td>1.083022</td>\n",
       "    </tr>\n",
       "    <tr>\n",
       "      <th>971</th>\n",
       "      <td>227663_value</td>\n",
       "      <td>1.077350</td>\n",
       "      <td>1.077350</td>\n",
       "    </tr>\n",
       "    <tr>\n",
       "      <th>855</th>\n",
       "      <td>226452_value</td>\n",
       "      <td>-1.070934</td>\n",
       "      <td>1.070934</td>\n",
       "    </tr>\n",
       "    <tr>\n",
       "      <th>1094</th>\n",
       "      <td>228346_value</td>\n",
       "      <td>1.066797</td>\n",
       "      <td>1.066797</td>\n",
       "    </tr>\n",
       "    <tr>\n",
       "      <th>36</th>\n",
       "      <td>221217_value</td>\n",
       "      <td>1.045228</td>\n",
       "      <td>1.045228</td>\n",
       "    </tr>\n",
       "    <tr>\n",
       "      <th>172</th>\n",
       "      <td>223926_value</td>\n",
       "      <td>-1.016872</td>\n",
       "      <td>1.016872</td>\n",
       "    </tr>\n",
       "    <tr>\n",
       "      <th>668</th>\n",
       "      <td>225729_value</td>\n",
       "      <td>-0.955107</td>\n",
       "      <td>0.955107</td>\n",
       "    </tr>\n",
       "  </tbody>\n",
       "</table>\n",
       "</div>"
      ],
      "text/plain": [
       "              feat      coef  abs_coef\n",
       "763   225892_value  2.027556  2.027556\n",
       "72    221794_value -1.645414  1.645414\n",
       "1299   70059_value  1.473608  1.473608\n",
       "840   226363_value  1.343088  1.343088\n",
       "851   226375_value -1.335236  1.335236\n",
       "1307   70088_value  1.207498  1.207498\n",
       "496   224974_value  1.207266  1.207266\n",
       "346   224369_value -1.200431  1.200431\n",
       "654   225439_value  1.135540  1.135540\n",
       "17     220862_Rate  1.106664  1.106664\n",
       "1192   50963_value -1.100462  1.100462\n",
       "416   224800_value -1.089362  1.089362\n",
       "417   224801_value -1.088073  1.088073\n",
       "1027  227956_value -1.083022  1.083022\n",
       "971   227663_value  1.077350  1.077350\n",
       "855   226452_value -1.070934  1.070934\n",
       "1094  228346_value  1.066797  1.066797\n",
       "36    221217_value  1.045228  1.045228\n",
       "172   223926_value -1.016872  1.016872\n",
       "668   225729_value -0.955107  0.955107"
      ]
     },
     "execution_count": 10,
     "metadata": {},
     "output_type": "execute_result"
    }
   ],
   "source": [
    "coef_df = pd.DataFrame(\n",
    "    {'feat' : df_start.columns,\n",
    "    'coef' : boundary.coef_.flatten(),\n",
    "    'abs_coef' : np.abs(boundary.coef_.flatten())})\n",
    "\n",
    "coef_df.sort_values(by=['abs_coef'], ascending=False)[:20]"
   ]
  },
  {
   "cell_type": "code",
   "execution_count": 11,
   "metadata": {},
   "outputs": [],
   "source": [
    "hundred = train.iloc[:100,:]\n",
    "m = dice_ml.Model(model=boundary, backend=\"sklearn\")\n",
    "d = dice_ml.Data(dataframe=train, continuous_features=freq_stats, outcome_name='label')\n",
    "exp = dice_ml.Dice(d, m, method=\"random\")"
   ]
  },
  {
   "cell_type": "code",
   "execution_count": 138,
   "metadata": {},
   "outputs": [],
   "source": [
    "pos = np.where(yte==1)\n",
    "diff = df_end - df_start"
   ]
  },
  {
   "cell_type": "code",
   "execution_count": 39,
   "metadata": {},
   "outputs": [],
   "source": [
    "def compare_cf(d, diff, mad, ftv, tol=1e-5, n_avg=5):\n",
    "   d = d[ftv]\n",
    "   comp = diff[ftv]\n",
    "   distance = []\n",
    "   for i in range(comp.shape[0]):\n",
    "      distance.append(np.sum(np.abs(d - comp.iloc[i,:])/(mad+tol)))\n",
    "   distance = np.sort(distance)\n",
    "   return np.sum(distance[:n_avg])/n_avg"
   ]
  },
  {
   "cell_type": "code",
   "execution_count": 167,
   "metadata": {},
   "outputs": [],
   "source": [
    "def evaluate_rank(df, model, diff, ftv, cont=[], n_cfs=3, n_avg=5):\n",
    "    m = dice_ml.Model(model=model, backend=\"sklearn\")\n",
    "    d = dice_ml.Data(dataframe=df, continuous_features=cont, outcome_name='label')\n",
    "    exp = dice_ml.Dice(d, m, method=\"random\")\n",
    "    all_comparisons = []\n",
    "    top_comparisons = []\n",
    "    top_cfs = []\n",
    "    bot_cfs = []\n",
    "    failed = []\n",
    "    few = []\n",
    "    few_cfs = []\n",
    "    changes = pd.DataFrame(columns = ['idx', 'cf_idx'] + ftv)\n",
    "    mad = sp.stats.median_abs_deviation(diff[ftv])\n",
    "    for i in trange(df.shape[0]):\n",
    "        query = df.iloc[i:(i+1),:]\n",
    "        query = query.drop(columns=['label'])\n",
    "        e = exp.generate_counterfactuals(\n",
    "            query,\n",
    "            total_CFs=n_cfs, \n",
    "            desired_class=\"opposite\",\n",
    "            features_to_vary=ftv)\n",
    "        cfs = e.cf_examples_list[0].final_cfs_df\n",
    "        if cfs is None:\n",
    "            failed.append(i)\n",
    "            continue\n",
    "        elif cfs.shape[0] < n_cfs:\n",
    "            few.append(i)\n",
    "            few_cfs.append(cfs)\n",
    "            continue\n",
    "        comparisons = []\n",
    "        for j in trange(n_cfs):\n",
    "            d = cfs.iloc[j,:-1].apply(pd.to_numeric) - query.iloc[0,:].apply(pd.to_numeric)\n",
    "            c = compare_cf(\n",
    "                d=d,\n",
    "                diff=diff,\n",
    "                mad=mad,\n",
    "                ftv=ftv\n",
    "            )\n",
    "            row = []\n",
    "            changes.loc[len(changes)] = [int(i), int(j)] + list(np.zeros(len(ftv)))\n",
    "            changes.iloc[i,:][ftv] = d\n",
    "            all_comparisons.append(c)\n",
    "            comparisons.append(c)\n",
    "        top = np.argmin(comparisons)\n",
    "        bot = np.argmax(comparisons)\n",
    "        top_comparisons.append(comparisons[top])\n",
    "\n",
    "        top_cfs.append(cfs.iloc[top,:])\n",
    "        bot_cfs.append(cfs.iloc[bot,:])\n",
    "    results = {\n",
    "        'all' : all_comparisons,\n",
    "        'top' : top_comparisons,\n",
    "        'top_cfs' : top_cfs,\n",
    "        'bot_cfs' : bot_cfs,\n",
    "        'failed' : failed,\n",
    "        'few' : few,\n",
    "        'few_cfs' : few_cfs,\n",
    "        'changes' : changes\n",
    "    }\n",
    "    return results"
   ]
  },
  {
   "cell_type": "code",
   "execution_count": 48,
   "metadata": {},
   "outputs": [
    {
     "name": "stderr",
     "output_type": "stream",
     "text": [
      "/Users/alex/miniconda3/envs/cfe/lib/python3.7/site-packages/pandas/core/frame.py:3069: SettingWithCopyWarning: \n",
      "A value is trying to be set on a copy of a slice from a DataFrame.\n",
      "Try using .loc[row_indexer,col_indexer] = value instead\n",
      "\n",
      "See the caveats in the documentation: https://pandas.pydata.org/pandas-docs/stable/user_guide/indexing.html#returning-a-view-versus-a-copy\n",
      "  self[k1] = value[k2]\n"
     ]
    }
   ],
   "source": [
    "test_pos = test.iloc[pos]\n",
    "test_pos[freq_stats] = test_pos[freq_stats].apply(pd.to_numeric)"
   ]
  },
  {
   "cell_type": "code",
   "execution_count": 168,
   "metadata": {},
   "outputs": [
    {
     "name": "stderr",
     "output_type": "stream",
     "text": [
      "/Users/alex/miniconda3/envs/cfe/lib/python3.7/site-packages/dice_ml/data_interfaces/public_data_interface.py:60: SettingWithCopyWarning: \n",
      "A value is trying to be set on a copy of a slice from a DataFrame.\n",
      "Try using .loc[row_indexer,col_indexer] = value instead\n",
      "\n",
      "See the caveats in the documentation: https://pandas.pydata.org/pandas-docs/stable/user_guide/indexing.html#returning-a-view-versus-a-copy\n",
      "  self.data_df[feature] = self.data_df[feature].apply(str)\n",
      "/Users/alex/miniconda3/envs/cfe/lib/python3.7/site-packages/pandas/core/frame.py:3069: SettingWithCopyWarning: \n",
      "A value is trying to be set on a copy of a slice from a DataFrame.\n",
      "Try using .loc[row_indexer,col_indexer] = value instead\n",
      "\n",
      "See the caveats in the documentation: https://pandas.pydata.org/pandas-docs/stable/user_guide/indexing.html#returning-a-view-versus-a-copy\n",
      "  self[k1] = value[k2]\n",
      "/Users/alex/miniconda3/envs/cfe/lib/python3.7/site-packages/dice_ml/data_interfaces/public_data_interface.py:71: SettingWithCopyWarning: \n",
      "A value is trying to be set on a copy of a slice from a DataFrame.\n",
      "Try using .loc[row_indexer,col_indexer] = value instead\n",
      "\n",
      "See the caveats in the documentation: https://pandas.pydata.org/pandas-docs/stable/user_guide/indexing.html#returning-a-view-versus-a-copy\n",
      "  np.int32)\n",
      "100%|██████████| 10/10 [00:35<00:00,  3.59s/it]\n",
      " 10%|█         | 2/20 [00:42<05:28, 18.23s/it]"
     ]
    },
    {
     "name": "stdout",
     "output_type": "stream",
     "text": [
      "No Counterfactuals found for the given configuation, perhaps try with different parameters... ; total time taken: 00 min 03 sec\n"
     ]
    },
    {
     "name": "stderr",
     "output_type": "stream",
     "text": [
      " 15%|█▌        | 3/20 [00:46<03:19, 11.73s/it]"
     ]
    },
    {
     "name": "stdout",
     "output_type": "stream",
     "text": [
      "No Counterfactuals found for the given configuation, perhaps try with different parameters... ; total time taken: 00 min 03 sec\n"
     ]
    },
    {
     "name": "stderr",
     "output_type": "stream",
     "text": [
      "100%|██████████| 10/10 [00:35<00:00,  3.57s/it]\n",
      "100%|██████████| 10/10 [00:35<00:00,  3.57s/it]\n",
      " 30%|███       | 6/20 [02:07<04:37, 19.85s/it]"
     ]
    },
    {
     "name": "stdout",
     "output_type": "stream",
     "text": [
      "No Counterfactuals found for the given configuation, perhaps try with different parameters... ; total time taken: 00 min 03 sec\n"
     ]
    },
    {
     "name": "stderr",
     "output_type": "stream",
     "text": [
      "100%|██████████| 10/10 [00:35<00:00,  3.57s/it]\n",
      "100%|██████████| 10/10 [00:36<00:00,  3.66s/it]\n",
      " 45%|████▌     | 9/20 [03:30<04:04, 22.27s/it]"
     ]
    },
    {
     "name": "stdout",
     "output_type": "stream",
     "text": [
      "No Counterfactuals found for the given configuation, perhaps try with different parameters... ; total time taken: 00 min 03 sec\n"
     ]
    },
    {
     "name": "stderr",
     "output_type": "stream",
     "text": [
      "100%|██████████| 10/10 [00:35<00:00,  3.56s/it]\n",
      " 55%|█████▌    | 11/20 [04:12<03:01, 20.15s/it]"
     ]
    },
    {
     "name": "stdout",
     "output_type": "stream",
     "text": [
      "No Counterfactuals found for the given configuation, perhaps try with different parameters... ; total time taken: 00 min 03 sec\n"
     ]
    },
    {
     "name": "stderr",
     "output_type": "stream",
     "text": [
      " 60%|██████    | 12/20 [04:16<02:01, 15.22s/it]"
     ]
    },
    {
     "name": "stdout",
     "output_type": "stream",
     "text": [
      "No Counterfactuals found for the given configuation, perhaps try with different parameters... ; total time taken: 00 min 03 sec\n"
     ]
    },
    {
     "name": "stderr",
     "output_type": "stream",
     "text": [
      "100%|██████████| 10/10 [00:35<00:00,  3.56s/it]\n",
      "100%|██████████| 10/10 [00:35<00:00,  3.58s/it]\n",
      " 75%|███████▌  | 15/20 [05:37<01:40, 20.17s/it]"
     ]
    },
    {
     "name": "stdout",
     "output_type": "stream",
     "text": [
      "No Counterfactuals found for the given configuation, perhaps try with different parameters... ; total time taken: 00 min 03 sec\n"
     ]
    },
    {
     "name": "stderr",
     "output_type": "stream",
     "text": [
      " 80%|████████  | 16/20 [05:42<01:02, 15.69s/it]"
     ]
    },
    {
     "name": "stdout",
     "output_type": "stream",
     "text": [
      "Only 9 (required 10) Diverse Counterfactuals found for the given configuration, perhaps try with different parameters... ; total time taken: 00 min 04 sec\n"
     ]
    },
    {
     "name": "stderr",
     "output_type": "stream",
     "text": [
      " 85%|████████▌ | 17/20 [05:47<00:37, 12.43s/it]"
     ]
    },
    {
     "name": "stdout",
     "output_type": "stream",
     "text": [
      "Only 3 (required 10) Diverse Counterfactuals found for the given configuration, perhaps try with different parameters... ; total time taken: 00 min 04 sec\n"
     ]
    },
    {
     "name": "stderr",
     "output_type": "stream",
     "text": [
      "100%|██████████| 10/10 [00:35<00:00,  3.57s/it]\n",
      " 95%|█████████▌| 19/20 [06:32<00:15, 15.79s/it]"
     ]
    },
    {
     "name": "stdout",
     "output_type": "stream",
     "text": [
      "No Counterfactuals found for the given configuation, perhaps try with different parameters... ; total time taken: 00 min 03 sec\n"
     ]
    },
    {
     "name": "stderr",
     "output_type": "stream",
     "text": [
      "100%|██████████| 10/10 [00:35<00:00,  3.55s/it]\n",
      "100%|██████████| 20/20 [07:10<00:00, 21.52s/it]\n"
     ]
    }
   ],
   "source": [
    "eval_df = test_pos.iloc[:20,:]\n",
    "results = evaluate_rank(\n",
    "    df = eval_df,\n",
    "    model = boundary,\n",
    "    diff = diff,\n",
    "    n_cfs=10,\n",
    "    n_avg=3,\n",
    "    ftv = freq_stats,\n",
    "    cont = freq_stats\n",
    ")"
   ]
  },
  {
   "cell_type": "code",
   "execution_count": 96,
   "metadata": {},
   "outputs": [
    {
     "name": "stdout",
     "output_type": "stream",
     "text": [
      "78742.43257567425\n"
     ]
    },
    {
     "data": {
      "text/plain": [
       "9103.927142546756"
      ]
     },
     "execution_count": 96,
     "metadata": {},
     "output_type": "execute_result"
    }
   ],
   "source": [
    "print(np.average(results['all']))\n",
    "np.average(results['top'])"
   ]
  },
  {
   "cell_type": "code",
   "execution_count": 208,
   "metadata": {},
   "outputs": [
    {
     "data": {
      "text/html": [
       "<div>\n",
       "<style scoped>\n",
       "    .dataframe tbody tr th:only-of-type {\n",
       "        vertical-align: middle;\n",
       "    }\n",
       "\n",
       "    .dataframe tbody tr th {\n",
       "        vertical-align: top;\n",
       "    }\n",
       "\n",
       "    .dataframe thead th {\n",
       "        text-align: right;\n",
       "    }\n",
       "</style>\n",
       "<table border=\"1\" class=\"dataframe\">\n",
       "  <thead>\n",
       "    <tr style=\"text-align: right;\">\n",
       "      <th></th>\n",
       "      <th>DiaBP_value</th>\n",
       "      <th>DiaBP_min</th>\n",
       "      <th>DiaBP_mean</th>\n",
       "      <th>HR_max</th>\n",
       "      <th>HR_min</th>\n",
       "      <th>SpO2_value</th>\n",
       "      <th>SpO2_max</th>\n",
       "      <th>SpO2_min</th>\n",
       "      <th>SpO2_mean</th>\n",
       "      <th>RR_value</th>\n",
       "      <th>RR_max</th>\n",
       "      <th>RR_min</th>\n",
       "      <th>SysBP_value</th>\n",
       "      <th>SysBP_max</th>\n",
       "      <th>SysBP_mean</th>\n",
       "    </tr>\n",
       "  </thead>\n",
       "  <tbody>\n",
       "    <tr>\n",
       "      <th>0</th>\n",
       "      <td>0.0</td>\n",
       "      <td>0.0</td>\n",
       "      <td>0.0</td>\n",
       "      <td>0.0</td>\n",
       "      <td>0.0</td>\n",
       "      <td>-2.0</td>\n",
       "      <td>-3.0</td>\n",
       "      <td>0.0</td>\n",
       "      <td>0.0</td>\n",
       "      <td>0.0</td>\n",
       "      <td>0.0</td>\n",
       "      <td>0.0</td>\n",
       "      <td>0.0</td>\n",
       "      <td>0.0</td>\n",
       "      <td>0.0</td>\n",
       "    </tr>\n",
       "    <tr>\n",
       "      <th>1</th>\n",
       "      <td>0.0</td>\n",
       "      <td>0.0</td>\n",
       "      <td>0.0</td>\n",
       "      <td>0.0</td>\n",
       "      <td>0.0</td>\n",
       "      <td>0.0</td>\n",
       "      <td>0.0</td>\n",
       "      <td>0.0</td>\n",
       "      <td>0.0</td>\n",
       "      <td>0.0</td>\n",
       "      <td>0.0</td>\n",
       "      <td>0.0</td>\n",
       "      <td>0.0</td>\n",
       "      <td>0.0</td>\n",
       "      <td>0.0</td>\n",
       "    </tr>\n",
       "    <tr>\n",
       "      <th>2</th>\n",
       "      <td>0.0</td>\n",
       "      <td>0.0</td>\n",
       "      <td>0.0</td>\n",
       "      <td>0.0</td>\n",
       "      <td>0.0</td>\n",
       "      <td>0.0</td>\n",
       "      <td>0.0</td>\n",
       "      <td>0.0</td>\n",
       "      <td>0.0</td>\n",
       "      <td>0.0</td>\n",
       "      <td>0.0</td>\n",
       "      <td>0.0</td>\n",
       "      <td>0.0</td>\n",
       "      <td>0.0</td>\n",
       "      <td>0.0</td>\n",
       "    </tr>\n",
       "    <tr>\n",
       "      <th>3</th>\n",
       "      <td>0.0</td>\n",
       "      <td>0.0</td>\n",
       "      <td>0.0</td>\n",
       "      <td>0.0</td>\n",
       "      <td>0.0</td>\n",
       "      <td>0.0</td>\n",
       "      <td>-3.0</td>\n",
       "      <td>0.0</td>\n",
       "      <td>0.0</td>\n",
       "      <td>0.0</td>\n",
       "      <td>1.0</td>\n",
       "      <td>0.0</td>\n",
       "      <td>0.0</td>\n",
       "      <td>0.0</td>\n",
       "      <td>0.0</td>\n",
       "    </tr>\n",
       "    <tr>\n",
       "      <th>4</th>\n",
       "      <td>0.0</td>\n",
       "      <td>0.0</td>\n",
       "      <td>3.0</td>\n",
       "      <td>0.0</td>\n",
       "      <td>0.0</td>\n",
       "      <td>0.0</td>\n",
       "      <td>0.0</td>\n",
       "      <td>0.0</td>\n",
       "      <td>0.0</td>\n",
       "      <td>-3.0</td>\n",
       "      <td>0.0</td>\n",
       "      <td>0.0</td>\n",
       "      <td>0.0</td>\n",
       "      <td>0.0</td>\n",
       "      <td>0.0</td>\n",
       "    </tr>\n",
       "    <tr>\n",
       "      <th>...</th>\n",
       "      <td>...</td>\n",
       "      <td>...</td>\n",
       "      <td>...</td>\n",
       "      <td>...</td>\n",
       "      <td>...</td>\n",
       "      <td>...</td>\n",
       "      <td>...</td>\n",
       "      <td>...</td>\n",
       "      <td>...</td>\n",
       "      <td>...</td>\n",
       "      <td>...</td>\n",
       "      <td>...</td>\n",
       "      <td>...</td>\n",
       "      <td>...</td>\n",
       "      <td>...</td>\n",
       "    </tr>\n",
       "    <tr>\n",
       "      <th>95</th>\n",
       "      <td>0.0</td>\n",
       "      <td>0.0</td>\n",
       "      <td>0.0</td>\n",
       "      <td>0.0</td>\n",
       "      <td>0.0</td>\n",
       "      <td>0.0</td>\n",
       "      <td>0.0</td>\n",
       "      <td>0.0</td>\n",
       "      <td>0.0</td>\n",
       "      <td>0.0</td>\n",
       "      <td>0.0</td>\n",
       "      <td>0.0</td>\n",
       "      <td>0.0</td>\n",
       "      <td>0.0</td>\n",
       "      <td>0.0</td>\n",
       "    </tr>\n",
       "    <tr>\n",
       "      <th>96</th>\n",
       "      <td>0.0</td>\n",
       "      <td>0.0</td>\n",
       "      <td>0.0</td>\n",
       "      <td>0.0</td>\n",
       "      <td>0.0</td>\n",
       "      <td>0.0</td>\n",
       "      <td>0.0</td>\n",
       "      <td>0.0</td>\n",
       "      <td>0.0</td>\n",
       "      <td>0.0</td>\n",
       "      <td>0.0</td>\n",
       "      <td>0.0</td>\n",
       "      <td>0.0</td>\n",
       "      <td>0.0</td>\n",
       "      <td>0.0</td>\n",
       "    </tr>\n",
       "    <tr>\n",
       "      <th>97</th>\n",
       "      <td>0.0</td>\n",
       "      <td>0.0</td>\n",
       "      <td>0.0</td>\n",
       "      <td>0.0</td>\n",
       "      <td>0.0</td>\n",
       "      <td>0.0</td>\n",
       "      <td>0.0</td>\n",
       "      <td>0.0</td>\n",
       "      <td>0.0</td>\n",
       "      <td>0.0</td>\n",
       "      <td>0.0</td>\n",
       "      <td>0.0</td>\n",
       "      <td>0.0</td>\n",
       "      <td>0.0</td>\n",
       "      <td>0.0</td>\n",
       "    </tr>\n",
       "    <tr>\n",
       "      <th>98</th>\n",
       "      <td>0.0</td>\n",
       "      <td>0.0</td>\n",
       "      <td>0.0</td>\n",
       "      <td>0.0</td>\n",
       "      <td>0.0</td>\n",
       "      <td>0.0</td>\n",
       "      <td>0.0</td>\n",
       "      <td>0.0</td>\n",
       "      <td>0.0</td>\n",
       "      <td>0.0</td>\n",
       "      <td>0.0</td>\n",
       "      <td>0.0</td>\n",
       "      <td>0.0</td>\n",
       "      <td>0.0</td>\n",
       "      <td>0.0</td>\n",
       "    </tr>\n",
       "    <tr>\n",
       "      <th>99</th>\n",
       "      <td>0.0</td>\n",
       "      <td>0.0</td>\n",
       "      <td>0.0</td>\n",
       "      <td>0.0</td>\n",
       "      <td>0.0</td>\n",
       "      <td>0.0</td>\n",
       "      <td>0.0</td>\n",
       "      <td>0.0</td>\n",
       "      <td>0.0</td>\n",
       "      <td>0.0</td>\n",
       "      <td>0.0</td>\n",
       "      <td>0.0</td>\n",
       "      <td>0.0</td>\n",
       "      <td>0.0</td>\n",
       "      <td>0.0</td>\n",
       "    </tr>\n",
       "  </tbody>\n",
       "</table>\n",
       "<p>100 rows × 15 columns</p>\n",
       "</div>"
      ],
      "text/plain": [
       "    DiaBP_value  DiaBP_min  DiaBP_mean  HR_max  HR_min  SpO2_value  SpO2_max  \\\n",
       "0           0.0        0.0         0.0     0.0     0.0        -2.0      -3.0   \n",
       "1           0.0        0.0         0.0     0.0     0.0         0.0       0.0   \n",
       "2           0.0        0.0         0.0     0.0     0.0         0.0       0.0   \n",
       "3           0.0        0.0         0.0     0.0     0.0         0.0      -3.0   \n",
       "4           0.0        0.0         3.0     0.0     0.0         0.0       0.0   \n",
       "..          ...        ...         ...     ...     ...         ...       ...   \n",
       "95          0.0        0.0         0.0     0.0     0.0         0.0       0.0   \n",
       "96          0.0        0.0         0.0     0.0     0.0         0.0       0.0   \n",
       "97          0.0        0.0         0.0     0.0     0.0         0.0       0.0   \n",
       "98          0.0        0.0         0.0     0.0     0.0         0.0       0.0   \n",
       "99          0.0        0.0         0.0     0.0     0.0         0.0       0.0   \n",
       "\n",
       "    SpO2_min  SpO2_mean  RR_value  RR_max  RR_min  SysBP_value  SysBP_max  \\\n",
       "0        0.0        0.0       0.0     0.0     0.0          0.0        0.0   \n",
       "1        0.0        0.0       0.0     0.0     0.0          0.0        0.0   \n",
       "2        0.0        0.0       0.0     0.0     0.0          0.0        0.0   \n",
       "3        0.0        0.0       0.0     1.0     0.0          0.0        0.0   \n",
       "4        0.0        0.0      -3.0     0.0     0.0          0.0        0.0   \n",
       "..       ...        ...       ...     ...     ...          ...        ...   \n",
       "95       0.0        0.0       0.0     0.0     0.0          0.0        0.0   \n",
       "96       0.0        0.0       0.0     0.0     0.0          0.0        0.0   \n",
       "97       0.0        0.0       0.0     0.0     0.0          0.0        0.0   \n",
       "98       0.0        0.0       0.0     0.0     0.0          0.0        0.0   \n",
       "99       0.0        0.0       0.0     0.0     0.0          0.0        0.0   \n",
       "\n",
       "    SysBP_mean  \n",
       "0          0.0  \n",
       "1          0.0  \n",
       "2          0.0  \n",
       "3          0.0  \n",
       "4          0.0  \n",
       "..         ...  \n",
       "95         0.0  \n",
       "96         0.0  \n",
       "97         0.0  \n",
       "98         0.0  \n",
       "99         0.0  \n",
       "\n",
       "[100 rows x 15 columns]"
      ]
     },
     "execution_count": 208,
     "metadata": {},
     "output_type": "execute_result"
    }
   ],
   "source": [
    "moving = np.where(-np.all(results['changes'][['idx', 'cf_idx'] +freq_stats]==0, axis=0))\n",
    "changing_vars = results['changes'][results['changes'].columns[moving]].drop(columns=['idx', 'cf_idx'])\n",
    "changing_vars"
   ]
  },
  {
   "cell_type": "code",
   "execution_count": 209,
   "metadata": {},
   "outputs": [
    {
     "data": {
      "text/plain": [
       "{'DiaBP_value': array([0., 1.]),\n",
       " 'DiaBP_min': array([-1.,  0.,  2.]),\n",
       " 'DiaBP_mean': array([-3., -2.,  0.,  3.]),\n",
       " 'HR_max': array([-3.,  0.]),\n",
       " 'HR_min': array([0., 3.]),\n",
       " 'SpO2_value': array([-2.,  0.]),\n",
       " 'SpO2_max': array([-3., -1.,  0.]),\n",
       " 'SpO2_min': array([0., 4.]),\n",
       " 'SpO2_mean': array([0., 4.]),\n",
       " 'RR_value': array([-3.,  0.,  2.]),\n",
       " 'RR_max': array([0., 1., 3.]),\n",
       " 'RR_min': array([-4.,  0.,  2.]),\n",
       " 'SysBP_value': array([-3., -2.,  0.,  1.]),\n",
       " 'SysBP_max': array([-1.,  0.,  2.]),\n",
       " 'SysBP_mean': array([0., 1.])}"
      ]
     },
     "execution_count": 209,
     "metadata": {},
     "output_type": "execute_result"
    }
   ],
   "source": [
    "unique_vals = {}\n",
    "for i in range(changing_vars.shape[1]):\n",
    "    unq = np.unique(changing_vars.iloc[:,i])\n",
    "    unique_vals[changing_vars.columns[i]] = unq\n",
    "unique_vals"
   ]
  },
  {
   "cell_type": "code",
   "execution_count": 210,
   "metadata": {},
   "outputs": [
    {
     "data": {
      "text/plain": [
       "<AxesSubplot:>"
      ]
     },
     "execution_count": 210,
     "metadata": {},
     "output_type": "execute_result"
    },
    {
     "data": {
      "image/png": "[encoded data removed]",
      "text/plain": [
       "<Figure size 640x480 with 2 Axes>"
      ]
     },
     "metadata": {},
     "output_type": "display_data"
    }
   ],
   "source": [
    "sns.heatmap(changing_vars.corr())"
   ]
  },
  {
   "cell_type": "code",
   "execution_count": 97,
   "metadata": {},
   "outputs": [
    {
     "data": {
      "text/plain": [
       "[1.9999800001999979,\n",
       " 2.9999700002999967,\n",
       " 2.599974000259997,\n",
       " 20026.59973400266,\n",
       " 8.999910000899991,\n",
       " 21.999780002199977,\n",
       " 3.5999640003599964,\n",
       " 20021.199788002115,\n",
       " 60023.59976400235,\n",
       " 27.599724002759967,\n",
       " 1.9999800001999979]"
      ]
     },
     "execution_count": 97,
     "metadata": {},
     "output_type": "execute_result"
    }
   ],
   "source": [
    "results['top']"
   ]
  },
  {
   "cell_type": "code",
   "execution_count": 98,
   "metadata": {},
   "outputs": [
    {
     "data": {
      "image/png": "[encoded data removed]",
      "text/plain": [
       "<Figure size 640x480 with 1 Axes>"
      ]
     },
     "metadata": {},
     "output_type": "display_data"
    }
   ],
   "source": [
    "top_list = list(np.repeat('top', len(results['top'])))\n",
    "all_list = list(np.repeat('all', len(results['all'])))\n",
    "res_df = pd.DataFrame(\n",
    "    {\n",
    "        'label' : all_list + top_list,\n",
    "        'distance' : results['all'] + results['top']  \n",
    "    }\n",
    ")\n",
    "res_df.pivot(columns='label', values='distance').plot.hist()\n",
    "plt.show()"
   ]
  },
  {
   "cell_type": "code",
   "execution_count": null,
   "metadata": {},
   "outputs": [],
   "source": []
  },
  {
   "cell_type": "code",
   "execution_count": 133,
   "metadata": {},
   "outputs": [],
   "source": [
    "y_tt = np.concatenate([ytr, yte])\n",
    "pos_tt = np.where(y_tt == 1)[0]\n",
    "diff_pos = diff.iloc[pos_tt]\n",
    "change_cov = np.cov(diff_pos.T)\n",
    "evals, evecs = np.linalg.eigh(change_cov)"
   ]
  },
  {
   "cell_type": "code",
   "execution_count": 225,
   "metadata": {},
   "outputs": [
    {
     "data": {
      "text/plain": [
       "array([ 0.01820459,  0.02202093,  0.00390191, ..., -0.00376135,\n",
       "       -0.00238653,  0.01865682])"
      ]
     },
     "execution_count": 225,
     "metadata": {},
     "output_type": "execute_result"
    }
   ],
   "source": [
    "evecs[:,-1]"
   ]
  },
  {
   "cell_type": "code",
   "execution_count": 227,
   "metadata": {},
   "outputs": [],
   "source": [
    "top_eig = np.where(np.abs(evecs[:,-1]) > np.quantile(np.abs(evecs[:,-1]), [0.98]))"
   ]
  },
  {
   "cell_type": "code",
   "execution_count": 229,
   "metadata": {},
   "outputs": [
    {
     "data": {
      "text/plain": [
       "Index(['223791_value', '223795_value', '223898_value', '223900_value',\n",
       "       '223901_value', '223902_value', '223911_value', '223917_value',\n",
       "       '223918_value', '223919_value', '223920_value', '223935_value',\n",
       "       '223947_value', '223985_value', '223986_value', '223987_value',\n",
       "       '223989_value', '223990_value', '224004_value', '224015_value',\n",
       "       '224016_value', '224027_value', '224028_value', '224055_value',\n",
       "       '224057_value', '224093_value', '224860_value'],\n",
       "      dtype='object')"
      ]
     },
     "execution_count": 229,
     "metadata": {},
     "output_type": "execute_result"
    }
   ],
   "source": [
    "diff.columns[top_eig]"
   ]
  },
  {
   "cell_type": "code",
   "execution_count": 223,
   "metadata": {},
   "outputs": [
    {
     "data": {
      "text/plain": [
       "0.9999999999999988"
      ]
     },
     "execution_count": 223,
     "metadata": {},
     "output_type": "execute_result"
    }
   ],
   "source": [
    "np.sum(np.square(evecs[:,0]))"
   ]
  },
  {
   "cell_type": "code",
   "execution_count": 215,
   "metadata": {},
   "outputs": [
    {
     "name": "stdout",
     "output_type": "stream",
     "text": [
      "650.8436338446704\n"
     ]
    },
    {
     "data": {
      "text/plain": [
       "array([ 13.28369838,  13.8250068 ,  15.55968421,  16.76592678,\n",
       "        21.84595882,  23.78318955,  27.60716714,  29.3359182 ,\n",
       "        31.73400066, 150.02882599])"
      ]
     },
     "execution_count": 215,
     "metadata": {},
     "output_type": "execute_result"
    }
   ],
   "source": [
    "print(np.sum(evals))\n",
    "evals[-10:]"
   ]
  },
  {
   "cell_type": "code",
   "execution_count": 216,
   "metadata": {},
   "outputs": [],
   "source": [
    "y_tt = np.concatenate([ytr, yte])\n",
    "pos_tt = np.where(y_tt == 1)[0]\n",
    "diff_pos_freq = diff.iloc[pos_tt][freq_stats]\n",
    "evals_f, evecs_f = np.linalg.eigh(np.cov(diff_pos_freq.T))"
   ]
  },
  {
   "cell_type": "code",
   "execution_count": 217,
   "metadata": {},
   "outputs": [
    {
     "name": "stdout",
     "output_type": "stream",
     "text": [
      "32.52924296548104\n"
     ]
    },
    {
     "data": {
      "text/plain": [
       "array([0.34397759, 0.4700932 , 0.56584295, 0.66755084, 1.12676959,\n",
       "       2.53333347, 2.99917451, 5.81977283, 7.5696769 , 8.72347922])"
      ]
     },
     "execution_count": 217,
     "metadata": {},
     "output_type": "execute_result"
    }
   ],
   "source": [
    "print(np.sum(evals_f))\n",
    "evals_f[-10:]"
   ]
  },
  {
   "cell_type": "code",
   "execution_count": 236,
   "metadata": {},
   "outputs": [
    {
     "data": {
      "text/plain": [
       "[<matplotlib.lines.Line2D at 0x7fc12384e310>]"
      ]
     },
     "execution_count": 236,
     "metadata": {},
     "output_type": "execute_result"
    },
    {
     "data": {
      "image/png": "[encoded data removed]",
      "text/plain": [
       "<Figure size 640x480 with 1 Axes>"
      ]
     },
     "metadata": {},
     "output_type": "display_data"
    }
   ],
   "source": [
    "plt.plot(np.flip(evals_f))"
   ]
  },
  {
   "cell_type": "code",
   "execution_count": 238,
   "metadata": {},
   "outputs": [
    {
     "data": {
      "text/plain": [
       "array([ 0.19716742,  0.19981701,  0.18883417,  0.19995207, -0.05631526,\n",
       "       -0.05696507, -0.05551583, -0.05798411, -0.13353981, -0.11466112,\n",
       "       -0.10820223, -0.13848973, -0.41317689, -0.40362195, -0.36090884,\n",
       "       -0.42251913,  0.17795755,  0.17342508,  0.18361855,  0.18156783])"
      ]
     },
     "execution_count": 238,
     "metadata": {},
     "output_type": "execute_result"
    }
   ],
   "source": [
    "evecs_f[:,-3]"
   ]
  },
  {
   "cell_type": "code",
   "execution_count": 237,
   "metadata": {},
   "outputs": [
    {
     "data": {
      "text/plain": [
       "['DiaBP_value',\n",
       " 'DiaBP_max',\n",
       " 'DiaBP_min',\n",
       " 'DiaBP_mean',\n",
       " 'HR_value',\n",
       " 'HR_max',\n",
       " 'HR_min',\n",
       " 'HR_mean',\n",
       " 'SpO2_value',\n",
       " 'SpO2_max',\n",
       " 'SpO2_min',\n",
       " 'SpO2_mean',\n",
       " 'RR_value',\n",
       " 'RR_max',\n",
       " 'RR_min',\n",
       " 'RR_mean',\n",
       " 'SysBP_value',\n",
       " 'SysBP_max',\n",
       " 'SysBP_min',\n",
       " 'SysBP_mean']"
      ]
     },
     "execution_count": 237,
     "metadata": {},
     "output_type": "execute_result"
    }
   ],
   "source": [
    "freq_stats"
   ]
  },
  {
   "cell_type": "code",
   "execution_count": 232,
   "metadata": {},
   "outputs": [
    {
     "data": {
      "text/plain": [
       "array(['SysBP_mean'], dtype='<U11')"
      ]
     },
     "execution_count": 232,
     "metadata": {},
     "output_type": "execute_result"
    }
   ],
   "source": [
    "top_eig = np.where(np.abs(evecs_f[:,-1]) > np.quantile(np.abs(evecs_f[:,-1]), [0.50]))\n",
    "np.array(freq_stats)[top_eig]"
   ]
  },
  {
   "cell_type": "code",
   "execution_count": 134,
   "metadata": {},
   "outputs": [
    {
     "data": {
      "text/plain": [
       "[<matplotlib.lines.Line2D at 0x7fc062ca2250>]"
      ]
     },
     "execution_count": 134,
     "metadata": {},
     "output_type": "execute_result"
    },
    {
     "data": {
      "image/png": "[encoded data removed]",
      "text/plain": [
       "<Figure size 640x480 with 1 Axes>"
      ]
     },
     "metadata": {},
     "output_type": "display_data"
    }
   ],
   "source": [
    "plt.plot(np.flip(evals))"
   ]
  },
  {
   "cell_type": "code",
   "execution_count": 142,
   "metadata": {},
   "outputs": [
    {
     "data": {
      "text/plain": [
       "<AxesSubplot:>"
      ]
     },
     "execution_count": 142,
     "metadata": {},
     "output_type": "execute_result"
    },
    {
     "data": {
      "image/png": "[encoded data removed]",
      "text/plain": [
       "<Figure size 640x480 with 2 Axes>"
      ]
     },
     "metadata": {},
     "output_type": "display_data"
    }
   ],
   "source": [
    "placeholder = diff.copy()\n",
    "placeholder['label'] = y_tt\n",
    "sns.heatmap(placeholder[freq_stats+['label']].corr())"
   ]
  },
  {
   "cell_type": "code",
   "execution_count": 152,
   "metadata": {},
   "outputs": [
    {
     "data": {
      "text/plain": [
       "<AxesSubplot:xlabel='label', ylabel='DiaBP_value'>"
      ]
     },
     "execution_count": 152,
     "metadata": {},
     "output_type": "execute_result"
    },
    {
     "data": {
      "image/png": "[encoded data removed]",
      "text/plain": [
       "<Figure size 640x480 with 1 Axes>"
      ]
     },
     "metadata": {},
     "output_type": "display_data"
    }
   ],
   "source": [
    "sns.stripplot(data=placeholder, y='DiaBP_value', x='label', jitter=0.4, alpha=0.5)"
   ]
  }
 ],
 "metadata": {
  "kernelspec": {
   "display_name": "Python 3.7.13 ('cfe')",
   "language": "python",
   "name": "python3"
  },
  "language_info": {
   "codemirror_mode": {
    "name": "ipython",
    "version": 3
   },
   "file_extension": ".py",
   "mimetype": "text/x-python",
   "name": "python",
   "nbconvert_exporter": "python",
   "pygments_lexer": "ipython3",
   "version": "3.7.13"
  },
  "orig_nbformat": 4,
  "vscode": {
   "interpreter": {
    "hash": "ed9f6bfafb24424ac2d7c1a0180a98b6559823ee37c889981a56c6d18cd38889"
   }
  }
 },
 "nbformat": 4,
 "nbformat_minor": 2
}
